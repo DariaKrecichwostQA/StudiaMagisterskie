{
 "cells": [
  {
   "cell_type": "markdown",
   "id": "145ebc1b",
   "metadata": {},
   "source": [
    "# Wieloliniowa regresja z użyciem macierzy pseudoodwrotnej"
   ]
  },
  {
   "cell_type": "markdown",
   "id": "1e5f3f66",
   "metadata": {},
   "source": [
    "Regresja liniowa postaci:  \n",
    "$y = a \\cdot x_1 + b \\cdot x_2$  \n",
    "\n",
    "Celem jest wyznaczenie współczynników regresji a i b metodą najmniejszych kwadratów z użyciem macierzy pseudoodwrotnej."
   ]
  },
  {
   "cell_type": "code",
   "execution_count": null,
   "id": "48420f66",
   "metadata": {},
   "outputs": [],
   "source": [
    "import numpy as np\n",
    "import matplotlib.pyplot as plt"
   ]
  },
  {
   "cell_type": "code",
   "execution_count": null,
   "id": "6d32d19c",
   "metadata": {},
   "outputs": [],
   "source": [
    "# Przykładowe dane\n",
    "x1 = np.array([1, 2, 3, 4, 5])\n",
    "x2 = np.array([2, 1, 0, 1, 2])\n",
    "y  = np.array([2, 3, 6, 7, 8])"
   ]
  },
  {
   "cell_type": "code",
   "execution_count": null,
   "id": "15d91e92",
   "metadata": {},
   "outputs": [],
   "source": [
    "# Tworzenie macierzy A z kolumn x1 i x2\n",
    "A = np.column_stack((x1, x2))\n",
    "print(\"Macierz A:\")\n",
    "print(A)"
   ]
  },
  {
   "cell_type": "code",
   "execution_count": null,
   "id": "b613592d",
   "metadata": {},
   "outputs": [],
   "source": [
    "# Obliczanie pseudoodwrotności macierzy A\n",
    "A_pinv = np.linalg.pinv(A)\n",
    "print(\"Pseudoodwrotność A:\")\n",
    "print(A_pinv)"
   ]
  },
  {
   "cell_type": "code",
   "execution_count": null,
   "id": "636839c2",
   "metadata": {},
   "outputs": [],
   "source": [
    "# Obliczanie współczynników regresji\n",
    "x = A_pinv @ y\n",
    "a, b = x\n",
    "print(f\"Współczynniki regresji: a = {a:.4f}, b = {b:.4f}\")"
   ]
  },
  {
   "cell_type": "code",
   "execution_count": null,
   "id": "ba28bdeb",
   "metadata": {},
   "outputs": [],
   "source": [
    "# Obliczanie wartości przewidzianych\n",
    "y_pred = A @ x"
   ]
  },
  {
   "cell_type": "code",
   "execution_count": null,
   "id": "5150bda5",
   "metadata": {},
   "outputs": [],
   "source": [
    "# Wykres porównujący wartości rzeczywiste i przewidziane\n",
    "plt.plot(y, 'ro-', label='Rzeczywiste y')\n",
    "plt.plot(y_pred, 'bo--', label='Przewidziane y')\n",
    "plt.xlabel('Indeks')\n",
    "plt.ylabel('y')\n",
    "plt.title('Wieloliniowa regresja: y = a*x1 + b*x2')\n",
    "plt.legend()\n",
    "plt.grid(True)\n",
    "plt.show()"
   ]
  }
 ],
 "metadata": {},
 "nbformat": 4,
 "nbformat_minor": 5
}
